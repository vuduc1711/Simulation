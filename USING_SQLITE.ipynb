{
 "cells": [
  {
   "cell_type": "code",
   "execution_count": null,
   "metadata": {},
   "outputs": [],
   "source": [
    "import requests\n",
    "from bs4 import BeautifulSoup as bs\n",
    "\n",
    "from selenium import webdriver\n",
    "\n",
    "import time\n",
    "\n",
    "import pandas as pd\n",
    "\n",
    "import sqlite3"
   ]
  },
  {
   "cell_type": "markdown",
   "metadata": {},
   "source": [
    "# ----------------------------------------Example of crawl data-----------------------------------"
   ]
  },
  {
   "cell_type": "code",
   "execution_count": null,
   "metadata": {},
   "outputs": [],
   "source": [
    "driver = webdriver.chrome\n",
    "driver = webdriver.Chrome(executable_path='./driver/chromedriver.exe')"
   ]
  },
  {
   "cell_type": "code",
   "execution_count": null,
   "metadata": {
    "scrolled": false
   },
   "outputs": [],
   "source": [
    "driver = webdriver.Chrome(executable_path='./driver/chromedriver.exe')\n",
    "driver.get('https://plus24.mbs.com.vn/apps/StockBoard/MBS/CW.html')\n",
    "\n",
    "time.sleep(5)\n",
    "\n",
    "cw = driver.find_element_by_xpath('//*[@id=\"module-6\"]/div/div[1]/ul/li[3]')\n",
    "\n",
    "cw.click()\n",
    "\n",
    "# //*[@id=\"trCEIB2001\"]\n",
    "# /html/body/div[8]/div/div/table/tbody[2]/tr[1]\n",
    "\n",
    "# row = driver.find_element_by_xpath('//tbody[2]/tr[1]/td[1]')\n",
    "\n",
    "\n",
    "mother_res = []\n",
    "\n",
    "m = -1\n",
    "while True:\n",
    "    m +=2\n",
    "    try:\n",
    "        res=[driver.find_element_by_xpath('//tbody[2]/tr[%d]/td[%d]'%(m,i)).text for i in range(1,30)]\n",
    "        mother_res.append(res)\n",
    "    except:\n",
    "        break"
   ]
  },
  {
   "cell_type": "code",
   "execution_count": null,
   "metadata": {},
   "outputs": [],
   "source": [
    "df = pd.DataFrame(data=mother_res)\n",
    "\n",
    "df"
   ]
  },
  {
   "cell_type": "markdown",
   "metadata": {},
   "source": [
    "# -----------------------Write to SQLITE and read from SQLITE-----------------------"
   ]
  },
  {
   "cell_type": "code",
   "execution_count": null,
   "metadata": {},
   "outputs": [],
   "source": [
    "conn=sqlite3.connect(\"database.bd\")\n",
    "\n",
    "df.to_sql(\"data1\",conn,if_exists=\"replace\")\n",
    "\n",
    "pd.read_sql_query(\"select * from data1\",conn)"
   ]
  }
 ],
 "metadata": {
  "kernelspec": {
   "display_name": "Python 3",
   "language": "python",
   "name": "python3"
  },
  "language_info": {
   "codemirror_mode": {
    "name": "ipython",
    "version": 3
   },
   "file_extension": ".py",
   "mimetype": "text/x-python",
   "name": "python",
   "nbconvert_exporter": "python",
   "pygments_lexer": "ipython3",
   "version": "3.8.7"
  }
 },
 "nbformat": 4,
 "nbformat_minor": 4
}
