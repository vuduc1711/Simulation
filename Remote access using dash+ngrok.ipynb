{
 "cells": [
  {
   "cell_type": "markdown",
   "metadata": {},
   "source": [
    "### Imports"
   ]
  },
  {
   "cell_type": "code",
   "execution_count": 1,
   "metadata": {},
   "outputs": [],
   "source": [
    "# Crawler and Database tools\n",
    "import requests\n",
    "from bs4 import BeautifulSoup as bs\n",
    "from selenium import webdriver\n",
    "import pandas as pd\n",
    "import sqlite3\n",
    "import time\n",
    "\n",
    "# Dash\n",
    "import dash\n",
    "import dash_core_components as dcc\n",
    "import dash_html_components as html\n",
    "from dash.dependencies import Input, Output\n",
    "import plotly.express as px\n",
    "import dash_bootstrap_components as dbc"
   ]
  },
  {
   "cell_type": "markdown",
   "metadata": {},
   "source": [
    "# ----------------------------------------Example of crawl data-----------------------------------"
   ]
  },
  {
   "cell_type": "markdown",
   "metadata": {},
   "source": [
    "### Plan: Crawler --> Local data --> SQLite (empty query input) --> Dash+Ngrok"
   ]
  },
  {
   "cell_type": "markdown",
   "metadata": {},
   "source": [
    "#### 1/Dash + Ngrok"
   ]
  },
  {
   "cell_type": "code",
   "execution_count": 4,
   "metadata": {
    "scrolled": true
   },
   "outputs": [],
   "source": [
    "# Dash App Innitialize\n",
    "app = dash.Dash(__name__,\n",
    "                external_stylesheets=[dbc.themes.CYBORG],\n",
    "                meta_tags=[{'name': 'viewport',\n",
    "                            'content': 'width=device-width, innitial-scale=1.0'\n",
    "                           }]\n",
    "               )\n",
    "\n",
    "# Dash App Layout\n",
    "app.layout = dbc.Container([\n",
    "    dbc.Row( # Page Header\n",
    "        dbc.Col(\n",
    "            html.H2(\n",
    "                'DATA TRANFERS',\n",
    "                className= 'h1'\n",
    "            ),\n",
    "            width= 12,\n",
    "        )\n",
    "    ),\n",
    "    dbc.Row( # Query input\n",
    "        [\n",
    "            dbc.Col(\n",
    "                dcc.Dropdown( # Choose which stock to tranfer to SQLite\n",
    "                    id= 'stock_id',\n",
    "                    options=[\n",
    "                        {'label': 'AAA', 'value': 'AAA'},\n",
    "                        {'label': 'BBB', 'value': 'BBB'},\n",
    "                        {'label': 'CCC', 'value': 'CCC'}\n",
    "                    ],\n",
    "                    multi=True,\n",
    "                    placeholder='Choose Stocks!'\n",
    "                ), \n",
    "                width = 3\n",
    "            ),\n",
    "            \n",
    "            dbc.Col(\n",
    "                dbc.Input(\n",
    "                    id= 'query',\n",
    "                    debounce= True,\n",
    "                    placeholder='Input Queries!'\n",
    "                ),\n",
    "                width = 9\n",
    "            )\n",
    "        ]\n",
    "    )\n",
    "],fluid=True)"
   ]
  },
  {
   "cell_type": "code",
   "execution_count": 5,
   "metadata": {},
   "outputs": [
    {
     "name": "stdout",
     "output_type": "stream",
     "text": [
      "Dash is running on http://127.0.0.1:3001/\n",
      "\n",
      " * Serving Flask app \"__main__\" (lazy loading)\n",
      " * Environment: production\n",
      "   WARNING: This is a development server. Do not use it in a production deployment.\n",
      "   Use a production WSGI server instead.\n",
      " * Debug mode: on\n"
     ]
    }
   ],
   "source": [
    "if __name__ == '__main__':\n",
    "    app.run_server(port=3001, debug= True, use_reloader=False)"
   ]
  },
  {
   "cell_type": "code",
   "execution_count": null,
   "metadata": {},
   "outputs": [],
   "source": []
  }
 ],
 "metadata": {
  "kernelspec": {
   "display_name": "Python 3",
   "language": "python",
   "name": "python3"
  },
  "language_info": {
   "codemirror_mode": {
    "name": "ipython",
    "version": 3
   },
   "file_extension": ".py",
   "mimetype": "text/x-python",
   "name": "python",
   "nbconvert_exporter": "python",
   "pygments_lexer": "ipython3",
   "version": "3.8.7"
  }
 },
 "nbformat": 4,
 "nbformat_minor": 4
}
