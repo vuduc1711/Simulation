{
 "cells": [
  {
   "cell_type": "markdown",
   "metadata": {},
   "source": [
    "### Imports"
   ]
  },
  {
   "cell_type": "code",
   "execution_count": 1,
   "metadata": {},
   "outputs": [],
   "source": [
    "# Back-end libs\n",
    "import sqlite3\n",
    "import pandas as pd\n",
    "import numpy\n",
    "from pathlib import Path\n",
    "\n",
    "# Fornt-end libs\n",
    "import dash\n",
    "import dash_core_components as dcc\n",
    "import dash_html_components as html\n",
    "from dash.dependencies import Input, Output\n",
    "import plotly.express as px\n",
    "import dash_bootstrap_components as dbc\n",
    "import dash_table"
   ]
  },
  {
   "cell_type": "markdown",
   "metadata": {},
   "source": [
    "# Back-end Functions"
   ]
  },
  {
   "cell_type": "code",
   "execution_count": 2,
   "metadata": {},
   "outputs": [],
   "source": [
    "def rename(dataframe):\n",
    "#     col=['Date','Ref','Ab_change','Rel_change','Close','Vol','Open','High','Low','Agreement','For_sell','For_buy','For_net']\n",
    "    \n",
    "#     col=['Date','Ref','Ab_change','Rel_change','Close','Vol','Open','High','Low','Agreement','For_sell','For_buy']\n",
    "    dataframe.columns = dataframe.iloc[0,:]\n",
    "    dataframe.drop(index=0,inplace=True)\n",
    "#     dataframe.drop(columns=['STT'],inplace=True)\n",
    "    dataframe.reset_index(inplace=True,drop=True)\n",
    "    \n",
    "#     dataframe.columns = col"
   ]
  },
  {
   "cell_type": "code",
   "execution_count": 3,
   "metadata": {},
   "outputs": [],
   "source": [
    "def all_files():\n",
    "    return [path for path in list(Path(r'./All_prices').glob('**/*')) if '.xlsx' in str(path)]"
   ]
  },
  {
   "cell_type": "code",
   "execution_count": 4,
   "metadata": {},
   "outputs": [],
   "source": [
    "def thousand_handle(ar):\n",
    "    if type(ar) == str:\n",
    "        if '%' in ar:\n",
    "            ar = ar.replace('%','')\n",
    "            ar= ar.replace(',','')\n",
    "            ar = ar.replace('.','')\n",
    "            ar = int(ar)/10000\n",
    "        else:\n",
    "            ar= ar.replace(',','')\n",
    "#             ar = ar.replace('.','')\n",
    "            ar = float(ar)\n",
    "    return ar"
   ]
  },
  {
   "cell_type": "code",
   "execution_count": 5,
   "metadata": {},
   "outputs": [],
   "source": [
    "def all_handle(dataframe):\n",
    "    rename(dataframe)\n",
    "    dataframe.drop(columns=[0,'STT'],inplace=True)\n",
    "    dataframe.dropna(how='all',axis=0,inplace=True)\n",
    "#     dataframe['Ngày'] = pd.to_datetime(dataframe['Ngày']) \n",
    "#     for col in dataframe.columns:\n",
    "#         dataframe[col] = dataframe[col].map(thousand_handle)\n",
    "    return dataframe"
   ]
  },
  {
   "cell_type": "code",
   "execution_count": 6,
   "metadata": {},
   "outputs": [],
   "source": [
    "def sql_conn(ind):\n",
    "    conn =  sqlite3.connect('./Data/%s.db'%ind)\n",
    "    return conn"
   ]
  },
  {
   "cell_type": "code",
   "execution_count": 7,
   "metadata": {},
   "outputs": [],
   "source": [
    "def to_sql(dataframe,stk,conn,if_existed):\n",
    "    dataframe.to_sql('%s'%stk,con=conn,if_exists = if_existed)"
   ]
  },
  {
   "cell_type": "code",
   "execution_count": 8,
   "metadata": {},
   "outputs": [],
   "source": [
    "def get_stk(stk):\n",
    "    return pd.read_sql('select * from %s' %(stock),con=conn)\n",
    "# It's better if we could add cols argurment for choosing  columns.\n",
    "#     if not cols:\n",
    "#         return pd.read_sql('select * from %s' %(stock),con=conn)\n",
    "#     else:\n",
    "#         cols.append(stk)\n",
    "#         return pd.read_sql('select %s from %s' %(cols),con=conn)"
   ]
  },
  {
   "cell_type": "code",
   "execution_count": 15,
   "metadata": {},
   "outputs": [],
   "source": [
    "def get_stk_name():\n",
    "    f= open(\"D:/Simulation/All_prices/sorted_all_prices.txt\",\"r\")\n",
    "    String_stk= f.read()\n",
    "    stk_lis = String_stk.split(\",\")\n",
    "    f.close()\n",
    "    stk_dict = [{'value':stk_lis[i],'label':stk_lis[i]} for i in range(len(stk_lis))]\n",
    "    return stk_dict"
   ]
  },
  {
   "cell_type": "markdown",
   "metadata": {},
   "source": [
    "# Font-end Functions"
   ]
  },
  {
   "cell_type": "markdown",
   "metadata": {},
   "source": [
    "### Plan: Crawler --> Local data --> SQLite (empty query input) --> Dash+Ngrok"
   ]
  },
  {
   "cell_type": "markdown",
   "metadata": {},
   "source": [
    "#### 1/Dash + Ngrok"
   ]
  },
  {
   "cell_type": "markdown",
   "metadata": {},
   "source": [
    "# - ISSUES:\n",
    "## + There are no connection between back-end and front-end. Firstly, we have to read input from id='stock-id', then put them into get stk function to get data table. Then draw data table on page.\n",
    "## + We could add function to draw chart from selected table.\n",
    "## + The next step is to build back-end function to calculate stocks' weight and PnL. Then combine them wit price, volume data to get PnL chart of portfolio."
   ]
  },
  {
   "cell_type": "code",
   "execution_count": 26,
   "metadata": {
    "scrolled": true
   },
   "outputs": [],
   "source": [
    "# All stock name:\n",
    "opt_lis = get_stk_name()\n",
    "\n",
    "# Dash App Innitialize\n",
    "app = dash.Dash(__name__,\n",
    "                external_stylesheets=[dbc.themes.CYBORG],\n",
    "                meta_tags=[{'name': 'viewport',\n",
    "                            'content': 'width=device-width, innitial-scale=1.0'\n",
    "                           }]\n",
    "               )\n",
    "\n",
    "# Dash App Layout\n",
    "app.layout = dbc.Container([\n",
    "    dbc.Row( # Page Header\n",
    "        dbc.Col(\n",
    "            html.H2(\n",
    "                'DATA TRANFERS',\n",
    "                className= 'h1'\n",
    "            ),\n",
    "            width= 12,\n",
    "        )\n",
    "    ),\n",
    "    dbc.Row( # Query input\n",
    "        [\n",
    "            dbc.Col(\n",
    "                dcc.Dropdown( # Choose which stock to tranfer to SQLite\n",
    "                    id= 'stock_id',\n",
    "                    options=opt_lis,\n",
    "                    multi=True,\n",
    "                    placeholder='Choose Stocks!'\n",
    "                ), \n",
    "                width = 3\n",
    "            ),\n",
    "            \n",
    "            dbc.Col(\n",
    "                dbc.Input(\n",
    "                    id= 'query',\n",
    "                    debounce= True,\n",
    "                    placeholder='Input Queries!'\n",
    "                ),\n",
    "                width = 9\n",
    "            )\n",
    "        ]\n",
    "    )\n",
    "],fluid=True)\n",
    "\n",
    "\n",
    "# ----- ISSUES HERE\n",
    "\n",
    "@app.callback(\n",
    "    Output(component_id='stock_id', component_property='value'),\n",
    "    Input(component_id='query', component_property='value')\n",
    ")\n",
    "def update_output_div(input_value):\n",
    "    return 'Output: {}'.format(input_value)"
   ]
  },
  {
   "cell_type": "code",
   "execution_count": 27,
   "metadata": {
    "collapsed": true
   },
   "outputs": [
    {
     "name": "stdout",
     "output_type": "stream",
     "text": [
      "Dash is running on http://127.0.0.1:3001/\n",
      "\n",
      "Dash is running on http://127.0.0.1:3001/\n",
      "\n",
      "Dash is running on http://127.0.0.1:3001/\n",
      "\n",
      "Dash is running on http://127.0.0.1:3001/\n",
      "\n",
      "Dash is running on http://127.0.0.1:3001/\n",
      "\n",
      "Dash is running on http://127.0.0.1:3001/\n",
      "\n",
      " * Serving Flask app \"__main__\" (lazy loading)\n",
      " * Environment: production\n",
      "   WARNING: This is a development server. Do not use it in a production deployment.\n",
      "   Use a production WSGI server instead.\n",
      " * Debug mode: on\n"
     ]
    }
   ],
   "source": [
    "if __name__ == '__main__':\n",
    "    app.run_server(port=3001, debug= True, use_reloader=False)"
   ]
  }
 ],
 "metadata": {
  "kernelspec": {
   "display_name": "Python 3",
   "language": "python",
   "name": "python3"
  },
  "language_info": {
   "codemirror_mode": {
    "name": "ipython",
    "version": 3
   },
   "file_extension": ".py",
   "mimetype": "text/x-python",
   "name": "python",
   "nbconvert_exporter": "python",
   "pygments_lexer": "ipython3",
   "version": "3.8.3"
  }
 },
 "nbformat": 4,
 "nbformat_minor": 4
}
